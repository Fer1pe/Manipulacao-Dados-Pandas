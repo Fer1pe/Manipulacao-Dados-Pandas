{
 "cells": [
  {
   "cell_type": "markdown",
   "metadata": {},
   "source": [
    "# Importar as bibliotecas necessarias: "
   ]
  },
  {
   "cell_type": "code",
   "execution_count": 1,
   "metadata": {},
   "outputs": [],
   "source": [
    "import pandas as pd \n",
    "import numpy as np \n",
    "import openpyxl as xl"
   ]
  },
  {
   "cell_type": "markdown",
   "metadata": {},
   "source": [
    "### Criando dicionarios 1\n"
   ]
  },
  {
   "cell_type": "code",
   "execution_count": 2,
   "metadata": {},
   "outputs": [],
   "source": [
    "Pessoa1 = {\n",
    "    'nome': 'Felipe',\n",
    "    'sobrenome': 'Machado',\n",
    "    'idade': 23,\n",
    "    'Data de nascimento' : '12/05/2001',\n",
    "    'CPF': '48743558895',\n",
    "    'Estado Civil': 'Divorciado',\n",
    "}"
   ]
  },
  {
   "cell_type": "markdown",
   "metadata": {},
   "source": [
    "#### primeiro dataframe"
   ]
  },
  {
   "cell_type": "code",
   "execution_count": 3,
   "metadata": {},
   "outputs": [
    {
     "data": {
      "text/html": [
       "<div>\n",
       "<style scoped>\n",
       "    .dataframe tbody tr th:only-of-type {\n",
       "        vertical-align: middle;\n",
       "    }\n",
       "\n",
       "    .dataframe tbody tr th {\n",
       "        vertical-align: top;\n",
       "    }\n",
       "\n",
       "    .dataframe thead th {\n",
       "        text-align: right;\n",
       "    }\n",
       "</style>\n",
       "<table border=\"1\" class=\"dataframe\">\n",
       "  <thead>\n",
       "    <tr style=\"text-align: right;\">\n",
       "      <th></th>\n",
       "      <th>nome</th>\n",
       "      <th>sobrenome</th>\n",
       "      <th>idade</th>\n",
       "      <th>Data de nascimento</th>\n",
       "      <th>CPF</th>\n",
       "      <th>Estado Civil</th>\n",
       "    </tr>\n",
       "  </thead>\n",
       "  <tbody>\n",
       "    <tr>\n",
       "      <th>0</th>\n",
       "      <td>Felipe</td>\n",
       "      <td>Machado</td>\n",
       "      <td>23</td>\n",
       "      <td>12/05/2001</td>\n",
       "      <td>48743558895</td>\n",
       "      <td>Divorciado</td>\n",
       "    </tr>\n",
       "  </tbody>\n",
       "</table>\n",
       "</div>"
      ],
      "text/plain": [
       "     nome sobrenome  idade Data de nascimento          CPF Estado Civil\n",
       "0  Felipe   Machado     23         12/05/2001  48743558895   Divorciado"
      ]
     },
     "metadata": {},
     "output_type": "display_data"
    }
   ],
   "source": [
    "df_pessoa1 = pd.DataFrame([Pessoa1])\n",
    "display(df_pessoa1)"
   ]
  },
  {
   "cell_type": "markdown",
   "metadata": {},
   "source": [
    "## Segundo Dicionario 2"
   ]
  },
  {
   "cell_type": "code",
   "execution_count": 4,
   "metadata": {},
   "outputs": [],
   "source": [
    "Pessoa2 = {\n",
    "    'nome': 'Enzo',\n",
    "    'sobrenome': 'Chaves',\n",
    "    'idade': 9,\n",
    "    'Data de nascimento': '10/08/2015',\n",
    "    'CPF': '1562156152',\n",
    "    'Estado Civil': 'Solteiro',\n",
    "}"
   ]
  },
  {
   "cell_type": "markdown",
   "metadata": {},
   "source": [
    "#### Dataframe 2"
   ]
  },
  {
   "cell_type": "code",
   "execution_count": 5,
   "metadata": {},
   "outputs": [
    {
     "data": {
      "text/html": [
       "<div>\n",
       "<style scoped>\n",
       "    .dataframe tbody tr th:only-of-type {\n",
       "        vertical-align: middle;\n",
       "    }\n",
       "\n",
       "    .dataframe tbody tr th {\n",
       "        vertical-align: top;\n",
       "    }\n",
       "\n",
       "    .dataframe thead th {\n",
       "        text-align: right;\n",
       "    }\n",
       "</style>\n",
       "<table border=\"1\" class=\"dataframe\">\n",
       "  <thead>\n",
       "    <tr style=\"text-align: right;\">\n",
       "      <th></th>\n",
       "      <th>nome</th>\n",
       "      <th>sobrenome</th>\n",
       "      <th>idade</th>\n",
       "      <th>Data de nascimento</th>\n",
       "      <th>CPF</th>\n",
       "      <th>Estado Civil</th>\n",
       "    </tr>\n",
       "  </thead>\n",
       "  <tbody>\n",
       "    <tr>\n",
       "      <th>0</th>\n",
       "      <td>Enzo</td>\n",
       "      <td>Chaves</td>\n",
       "      <td>9</td>\n",
       "      <td>10/08/2015</td>\n",
       "      <td>1562156152</td>\n",
       "      <td>Solteiro</td>\n",
       "    </tr>\n",
       "  </tbody>\n",
       "</table>\n",
       "</div>"
      ],
      "text/plain": [
       "   nome sobrenome  idade Data de nascimento         CPF Estado Civil\n",
       "0  Enzo    Chaves      9         10/08/2015  1562156152     Solteiro"
      ]
     },
     "metadata": {},
     "output_type": "display_data"
    }
   ],
   "source": [
    "df_pessoa2 = pd.DataFrame([Pessoa2])\n",
    "display(df_pessoa2)"
   ]
  },
  {
   "cell_type": "code",
   "execution_count": 6,
   "metadata": {},
   "outputs": [
    {
     "data": {
      "text/html": [
       "<div>\n",
       "<style scoped>\n",
       "    .dataframe tbody tr th:only-of-type {\n",
       "        vertical-align: middle;\n",
       "    }\n",
       "\n",
       "    .dataframe tbody tr th {\n",
       "        vertical-align: top;\n",
       "    }\n",
       "\n",
       "    .dataframe thead th {\n",
       "        text-align: right;\n",
       "    }\n",
       "</style>\n",
       "<table border=\"1\" class=\"dataframe\">\n",
       "  <thead>\n",
       "    <tr style=\"text-align: right;\">\n",
       "      <th></th>\n",
       "      <th>nome</th>\n",
       "      <th>sobrenome</th>\n",
       "      <th>idade</th>\n",
       "      <th>Data de nascimento</th>\n",
       "      <th>CPF</th>\n",
       "      <th>Estado Civil</th>\n",
       "    </tr>\n",
       "  </thead>\n",
       "  <tbody>\n",
       "    <tr>\n",
       "      <th>0</th>\n",
       "      <td>Felipe</td>\n",
       "      <td>Machado</td>\n",
       "      <td>23</td>\n",
       "      <td>12/05/2001</td>\n",
       "      <td>48743558895</td>\n",
       "      <td>Divorciado</td>\n",
       "    </tr>\n",
       "    <tr>\n",
       "      <th>1</th>\n",
       "      <td>Enzo</td>\n",
       "      <td>Chaves</td>\n",
       "      <td>9</td>\n",
       "      <td>10/08/2015</td>\n",
       "      <td>1562156152</td>\n",
       "      <td>Solteiro</td>\n",
       "    </tr>\n",
       "  </tbody>\n",
       "</table>\n",
       "</div>"
      ],
      "text/plain": [
       "     nome sobrenome  idade Data de nascimento          CPF Estado Civil\n",
       "0  Felipe   Machado     23         12/05/2001  48743558895   Divorciado\n",
       "1    Enzo    Chaves      9         10/08/2015   1562156152     Solteiro"
      ]
     },
     "metadata": {},
     "output_type": "display_data"
    }
   ],
   "source": [
    "df_Pessoas = pd.DataFrame([Pessoa1,Pessoa2])\n",
    "display(df_Pessoas)"
   ]
  },
  {
   "cell_type": "markdown",
   "metadata": {},
   "source": [
    "# Criando novos dicionarios e DFs"
   ]
  },
  {
   "cell_type": "code",
   "execution_count": 7,
   "metadata": {},
   "outputs": [],
   "source": [
    "\n",
    "Pessoa1 = {\n",
    "    'nome': 'Felipe',\n",
    "    'sobrenome': 'Machado',\n",
    "    'idade': 23,\n",
    "    'Data de nascimento': '12/05/2001',\n",
    "    'CPF': '02212556335',\n",
    "    'Estado Civil': 'Divorciado',\n",
    "}\n",
    "\n",
    "Pessoa2 = {\n",
    "    'nome': 'Ana',\n",
    "    'sobrenome': 'Silva',\n",
    "    'idade': 30,\n",
    "    'Data de nascimento': '25/11/1993',\n",
    "    'CPF': '12345678901',\n",
    "    'Estado Civil': 'Solteira',\n",
    "}\n",
    "\n",
    "Pessoa3 = {\n",
    "    'nome': 'Carlos',\n",
    "    'sobrenome': 'Oliveira',\n",
    "    'idade': 40,\n",
    "    'Data de nascimento': '15/03/1984',\n",
    "    'CPF': '98765432100',\n",
    "    'Estado Civil': 'Casado',\n",
    "}\n",
    "\n",
    "Pessoa4 = {\n",
    "    'nome': 'Maria',\n",
    "    'sobrenome': 'Pereira',\n",
    "    'idade': 29,\n",
    "    'Data de nascimento': '07/08/1995',\n",
    "    'CPF': '56789012345',\n",
    "    'Estado Civil': 'Viúva',\n",
    "}\n",
    "\n",
    "Pessoa5 = {\n",
    "    'nome': 'João',\n",
    "    'sobrenome': 'Costa',\n",
    "    'idade': 35,\n",
    "    'Data de nascimento': '22/01/1989',\n",
    "    'CPF': '34567890123',\n",
    "    'Estado Civil': 'Casado',\n",
    "}\n"
   ]
  },
  {
   "cell_type": "markdown",
   "metadata": {},
   "source": [
    "#### lista de dicionarios e display do novo DF"
   ]
  },
  {
   "cell_type": "code",
   "execution_count": 8,
   "metadata": {},
   "outputs": [
    {
     "data": {
      "text/html": [
       "<div>\n",
       "<style scoped>\n",
       "    .dataframe tbody tr th:only-of-type {\n",
       "        vertical-align: middle;\n",
       "    }\n",
       "\n",
       "    .dataframe tbody tr th {\n",
       "        vertical-align: top;\n",
       "    }\n",
       "\n",
       "    .dataframe thead th {\n",
       "        text-align: right;\n",
       "    }\n",
       "</style>\n",
       "<table border=\"1\" class=\"dataframe\">\n",
       "  <thead>\n",
       "    <tr style=\"text-align: right;\">\n",
       "      <th></th>\n",
       "      <th>nome</th>\n",
       "      <th>sobrenome</th>\n",
       "      <th>idade</th>\n",
       "      <th>Data de nascimento</th>\n",
       "      <th>CPF</th>\n",
       "      <th>Estado Civil</th>\n",
       "    </tr>\n",
       "  </thead>\n",
       "  <tbody>\n",
       "    <tr>\n",
       "      <th>0</th>\n",
       "      <td>Felipe</td>\n",
       "      <td>Machado</td>\n",
       "      <td>23</td>\n",
       "      <td>12/05/2001</td>\n",
       "      <td>02212556335</td>\n",
       "      <td>Divorciado</td>\n",
       "    </tr>\n",
       "    <tr>\n",
       "      <th>1</th>\n",
       "      <td>Ana</td>\n",
       "      <td>Silva</td>\n",
       "      <td>30</td>\n",
       "      <td>25/11/1993</td>\n",
       "      <td>12345678901</td>\n",
       "      <td>Solteira</td>\n",
       "    </tr>\n",
       "    <tr>\n",
       "      <th>2</th>\n",
       "      <td>Carlos</td>\n",
       "      <td>Oliveira</td>\n",
       "      <td>40</td>\n",
       "      <td>15/03/1984</td>\n",
       "      <td>98765432100</td>\n",
       "      <td>Casado</td>\n",
       "    </tr>\n",
       "    <tr>\n",
       "      <th>3</th>\n",
       "      <td>Maria</td>\n",
       "      <td>Pereira</td>\n",
       "      <td>29</td>\n",
       "      <td>07/08/1995</td>\n",
       "      <td>56789012345</td>\n",
       "      <td>Viúva</td>\n",
       "    </tr>\n",
       "    <tr>\n",
       "      <th>4</th>\n",
       "      <td>João</td>\n",
       "      <td>Costa</td>\n",
       "      <td>35</td>\n",
       "      <td>22/01/1989</td>\n",
       "      <td>34567890123</td>\n",
       "      <td>Casado</td>\n",
       "    </tr>\n",
       "  </tbody>\n",
       "</table>\n",
       "</div>"
      ],
      "text/plain": [
       "     nome sobrenome  idade Data de nascimento          CPF Estado Civil\n",
       "0  Felipe   Machado     23         12/05/2001  02212556335   Divorciado\n",
       "1     Ana     Silva     30         25/11/1993  12345678901     Solteira\n",
       "2  Carlos  Oliveira     40         15/03/1984  98765432100       Casado\n",
       "3   Maria   Pereira     29         07/08/1995  56789012345        Viúva\n",
       "4    João     Costa     35         22/01/1989  34567890123       Casado"
      ]
     },
     "metadata": {},
     "output_type": "display_data"
    }
   ],
   "source": [
    "pessoas = [Pessoa1, Pessoa2, Pessoa3, Pessoa4, Pessoa5]\n",
    "\n",
    "df_todos = pd.DataFrame(pessoas)\n",
    "display(df_todos)"
   ]
  },
  {
   "cell_type": "markdown",
   "metadata": {},
   "source": [
    "# Enviando para o Excel"
   ]
  },
  {
   "cell_type": "code",
   "execution_count": 9,
   "metadata": {},
   "outputs": [],
   "source": [
    "df_todos.to_excel(r'C:\\Users\\felip\\Documents\\df_todos.xlsx', index=False)"
   ]
  }
 ],
 "metadata": {
  "kernelspec": {
   "display_name": "Python 3",
   "language": "python",
   "name": "python3"
  },
  "language_info": {
   "codemirror_mode": {
    "name": "ipython",
    "version": 3
   },
   "file_extension": ".py",
   "mimetype": "text/x-python",
   "name": "python",
   "nbconvert_exporter": "python",
   "pygments_lexer": "ipython3",
   "version": "3.12.1"
  }
 },
 "nbformat": 4,
 "nbformat_minor": 2
}
